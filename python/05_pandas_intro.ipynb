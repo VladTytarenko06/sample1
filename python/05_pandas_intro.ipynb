{
 "cells": [
  {
   "cell_type": "markdown",
   "id": "c9228658",
   "metadata": {},
   "source": [
    "Ось **розгорнутий контент для файлу `05_pandas_intro.ipynb`**, орієнтований на використання **бібліотеки Pandas у військовій аналітиці**, з прикладами роботи з реальними даними (втрати, напрямки, підрозділи тощо).\n",
    "\n",
    "---\n",
    "\n",
    "# 📘 `05_pandas_intro.ipynb`\n",
    "\n",
    "## **Тема: Pandas для обробки військових даних**\n",
    "\n",
    "---\n",
    "\n",
    "### 🔹 Вступ\n",
    "\n",
    "`pandas` — одна з ключових бібліотек Python для обробки таблиць (табличних даних). Вона дає змогу швидко аналізувати, фільтрувати та агрегувати оперативні й розвідувальні дані для аналітичної підтримки прийняття рішень.\n",
    "\n",
    "---\n",
    "\n",
    "## 🔸 1. Імпорт бібліотеки та читання CSV\n",
    "\n",
    "```python\n",
    "import pandas as pd\n",
    "\n",
    "df = pd.read_csv(\"losses.csv\", encoding=\"utf-8\")\n",
    "df.head()  # переглянути перші 5 рядків\n",
    "```\n",
    "\n",
    "#### ▶️ Приклад CSV `losses.csv`:\n",
    "\n",
    "```csv\n",
    "Дата,Напрямок,Втрати,Підрозділ\n",
    "2025-06-10,Схід,102,1-а мехбр\n",
    "2025-06-11,Схід,134,1-а мехбр\n",
    "2025-06-12,Південь,98,2-а танкбр\n",
    "2025-06-13,Схід,145,3-я артбатр\n",
    "```\n",
    "\n",
    "---\n",
    "\n",
    "## 🔸 2. Основні методи\n",
    "\n",
    "```python\n",
    "df.info()\n",
    "df.describe()\n",
    "df.columns\n",
    "```\n",
    "\n",
    "---\n",
    "\n",
    "## 🔸 3. Фільтрація даних\n",
    "\n",
    "#### ▶️ За напрямком:\n",
    "\n",
    "```python\n",
    "east = df[df[\"Напрямок\"] == \"Схід\"]\n",
    "```\n",
    "\n",
    "#### ▶️ За кількістю втрат > 120:\n",
    "\n",
    "```python\n",
    "df[df[\"Втрати\"] > 120]\n",
    "```\n",
    "\n",
    "---\n",
    "\n",
    "## 🔸 4. Сортування\n",
    "\n",
    "```python\n",
    "df_sorted = df.sort_values(by=\"Втрати\", ascending=False)\n",
    "```\n",
    "\n",
    "---\n",
    "\n",
    "## 🔸 5. Групування\n",
    "\n",
    "#### ▶️ Сумарні втрати по напрямках:\n",
    "\n",
    "```python\n",
    "grouped = df.groupby(\"Напрямок\")[\"Втрати\"].sum()\n",
    "print(grouped)\n",
    "```\n",
    "\n",
    "#### ▶️ Середні втрати по підрозділах:\n",
    "\n",
    "```python\n",
    "avg = df.groupby(\"Підрозділ\")[\"Втрати\"].mean()\n",
    "print(avg)\n",
    "```\n",
    "\n",
    "---\n",
    "\n",
    "## 🔸 6. Додавання нових стовпців\n",
    "\n",
    "```python\n",
    "df[\"Рівень загрози\"] = df[\"Втрати\"].apply(lambda x: \"Високий\" if x > 120 else \"Низький\")\n",
    "```\n",
    "\n",
    "---\n",
    "\n",
    "## 🔸 7. Експорт результатів\n",
    "\n",
    "```python\n",
    "df.to_csv(\"processed_losses.csv\", index=False)\n",
    "```\n",
    "\n",
    "---\n",
    "\n",
    "## 📝 Практичні завдання:\n",
    "\n",
    "1. Зчитати CSV-файл з бойовими втратами та відобразити перші 5 рядків.\n",
    "2. Вивести загальні втрати за кожним напрямком.\n",
    "3. Вивести середні втрати по кожному підрозділу.\n",
    "4. Додати колонку з рівнем загрози.\n",
    "5. Зберегти результат аналізу у новий CSV-файл.\n",
    "\n"
   ]
  },
  {
   "cell_type": "markdown",
   "id": "084633a3",
   "metadata": {},
   "source": [
    "### Завдання 1. Зчитано CSV-файл з бойовими втратами та відображено перші 5 рядків."
   ]
  },
  {
   "cell_type": "code",
   "execution_count": 19,
   "id": "924ccb61",
   "metadata": {},
   "outputs": [
    {
     "name": "stdout",
     "output_type": "stream",
     "text": [
      "Requirement already satisfied: pandas in c:\\users\\5103_6\\appdata\\local\\packages\\pythonsoftwarefoundation.python.3.11_qbz5n2kfra8p0\\localcache\\local-packages\\python311\\site-packages (2.3.0)\n",
      "Requirement already satisfied: numpy>=1.23.2 in c:\\users\\5103_6\\appdata\\local\\packages\\pythonsoftwarefoundation.python.3.11_qbz5n2kfra8p0\\localcache\\local-packages\\python311\\site-packages (from pandas) (2.3.1)\n",
      "Requirement already satisfied: python-dateutil>=2.8.2 in c:\\users\\5103_6\\appdata\\local\\packages\\pythonsoftwarefoundation.python.3.11_qbz5n2kfra8p0\\localcache\\local-packages\\python311\\site-packages (from pandas) (2.9.0.post0)\n",
      "Requirement already satisfied: pytz>=2020.1 in c:\\users\\5103_6\\appdata\\local\\packages\\pythonsoftwarefoundation.python.3.11_qbz5n2kfra8p0\\localcache\\local-packages\\python311\\site-packages (from pandas) (2025.2)\n",
      "Requirement already satisfied: tzdata>=2022.7 in c:\\users\\5103_6\\appdata\\local\\packages\\pythonsoftwarefoundation.python.3.11_qbz5n2kfra8p0\\localcache\\local-packages\\python311\\site-packages (from pandas) (2025.2)\n",
      "Requirement already satisfied: six>=1.5 in c:\\users\\5103_6\\appdata\\local\\packages\\pythonsoftwarefoundation.python.3.11_qbz5n2kfra8p0\\localcache\\local-packages\\python311\\site-packages (from python-dateutil>=2.8.2->pandas) (1.17.0)\n",
      "Note: you may need to restart the kernel to use updated packages.\n"
     ]
    },
    {
     "name": "stderr",
     "output_type": "stream",
     "text": [
      "\n",
      "[notice] A new release of pip is available: 24.0 -> 25.1.1\n",
      "[notice] To update, run: C:\\Users\\5103_6\\AppData\\Local\\Microsoft\\WindowsApps\\PythonSoftwareFoundation.Python.3.11_qbz5n2kfra8p0\\python.exe -m pip install --upgrade pip\n"
     ]
    }
   ],
   "source": [
    "%pip install pandas\n"
   ]
  },
  {
   "cell_type": "code",
   "execution_count": 20,
   "id": "1ce09eb9",
   "metadata": {},
   "outputs": [
    {
     "ename": "FileNotFoundError",
     "evalue": "[Errno 2] No such file or directory: 'losses.csv'",
     "output_type": "error",
     "traceback": [
      "\u001b[31m---------------------------------------------------------------------------\u001b[39m",
      "\u001b[31mFileNotFoundError\u001b[39m                         Traceback (most recent call last)",
      "\u001b[36mCell\u001b[39m\u001b[36m \u001b[39m\u001b[32mIn[20]\u001b[39m\u001b[32m, line 3\u001b[39m\n\u001b[32m      1\u001b[39m \u001b[38;5;66;03m# Зчитуємо CSV-файл (переконайся, що файл у тій самій папці)\u001b[39;00m\n\u001b[32m      2\u001b[39m file_path = \u001b[33m'\u001b[39m\u001b[33mlosses.csv\u001b[39m\u001b[33m'\u001b[39m\n\u001b[32m----> \u001b[39m\u001b[32m3\u001b[39m data = \u001b[43mpd\u001b[49m\u001b[43m.\u001b[49m\u001b[43mread_csv\u001b[49m\u001b[43m(\u001b[49m\u001b[43mfile_path\u001b[49m\u001b[43m)\u001b[49m\n\u001b[32m      5\u001b[39m \u001b[38;5;66;03m# Виводимо перші 5 рядків\u001b[39;00m\n\u001b[32m      6\u001b[39m \u001b[38;5;28mprint\u001b[39m(\u001b[33m\"\u001b[39m\u001b[33mПерші 5 рядків з файлу:\u001b[39m\u001b[33m\"\u001b[39m)\n",
      "\u001b[36mFile \u001b[39m\u001b[32m~\\AppData\\Local\\Packages\\PythonSoftwareFoundation.Python.3.11_qbz5n2kfra8p0\\LocalCache\\local-packages\\Python311\\site-packages\\pandas\\io\\parsers\\readers.py:1026\u001b[39m, in \u001b[36mread_csv\u001b[39m\u001b[34m(filepath_or_buffer, sep, delimiter, header, names, index_col, usecols, dtype, engine, converters, true_values, false_values, skipinitialspace, skiprows, skipfooter, nrows, na_values, keep_default_na, na_filter, verbose, skip_blank_lines, parse_dates, infer_datetime_format, keep_date_col, date_parser, date_format, dayfirst, cache_dates, iterator, chunksize, compression, thousands, decimal, lineterminator, quotechar, quoting, doublequote, escapechar, comment, encoding, encoding_errors, dialect, on_bad_lines, delim_whitespace, low_memory, memory_map, float_precision, storage_options, dtype_backend)\u001b[39m\n\u001b[32m   1013\u001b[39m kwds_defaults = _refine_defaults_read(\n\u001b[32m   1014\u001b[39m     dialect,\n\u001b[32m   1015\u001b[39m     delimiter,\n\u001b[32m   (...)\u001b[39m\u001b[32m   1022\u001b[39m     dtype_backend=dtype_backend,\n\u001b[32m   1023\u001b[39m )\n\u001b[32m   1024\u001b[39m kwds.update(kwds_defaults)\n\u001b[32m-> \u001b[39m\u001b[32m1026\u001b[39m \u001b[38;5;28;01mreturn\u001b[39;00m \u001b[43m_read\u001b[49m\u001b[43m(\u001b[49m\u001b[43mfilepath_or_buffer\u001b[49m\u001b[43m,\u001b[49m\u001b[43m \u001b[49m\u001b[43mkwds\u001b[49m\u001b[43m)\u001b[49m\n",
      "\u001b[36mFile \u001b[39m\u001b[32m~\\AppData\\Local\\Packages\\PythonSoftwareFoundation.Python.3.11_qbz5n2kfra8p0\\LocalCache\\local-packages\\Python311\\site-packages\\pandas\\io\\parsers\\readers.py:620\u001b[39m, in \u001b[36m_read\u001b[39m\u001b[34m(filepath_or_buffer, kwds)\u001b[39m\n\u001b[32m    617\u001b[39m _validate_names(kwds.get(\u001b[33m\"\u001b[39m\u001b[33mnames\u001b[39m\u001b[33m\"\u001b[39m, \u001b[38;5;28;01mNone\u001b[39;00m))\n\u001b[32m    619\u001b[39m \u001b[38;5;66;03m# Create the parser.\u001b[39;00m\n\u001b[32m--> \u001b[39m\u001b[32m620\u001b[39m parser = \u001b[43mTextFileReader\u001b[49m\u001b[43m(\u001b[49m\u001b[43mfilepath_or_buffer\u001b[49m\u001b[43m,\u001b[49m\u001b[43m \u001b[49m\u001b[43m*\u001b[49m\u001b[43m*\u001b[49m\u001b[43mkwds\u001b[49m\u001b[43m)\u001b[49m\n\u001b[32m    622\u001b[39m \u001b[38;5;28;01mif\u001b[39;00m chunksize \u001b[38;5;129;01mor\u001b[39;00m iterator:\n\u001b[32m    623\u001b[39m     \u001b[38;5;28;01mreturn\u001b[39;00m parser\n",
      "\u001b[36mFile \u001b[39m\u001b[32m~\\AppData\\Local\\Packages\\PythonSoftwareFoundation.Python.3.11_qbz5n2kfra8p0\\LocalCache\\local-packages\\Python311\\site-packages\\pandas\\io\\parsers\\readers.py:1620\u001b[39m, in \u001b[36mTextFileReader.__init__\u001b[39m\u001b[34m(self, f, engine, **kwds)\u001b[39m\n\u001b[32m   1617\u001b[39m     \u001b[38;5;28mself\u001b[39m.options[\u001b[33m\"\u001b[39m\u001b[33mhas_index_names\u001b[39m\u001b[33m\"\u001b[39m] = kwds[\u001b[33m\"\u001b[39m\u001b[33mhas_index_names\u001b[39m\u001b[33m\"\u001b[39m]\n\u001b[32m   1619\u001b[39m \u001b[38;5;28mself\u001b[39m.handles: IOHandles | \u001b[38;5;28;01mNone\u001b[39;00m = \u001b[38;5;28;01mNone\u001b[39;00m\n\u001b[32m-> \u001b[39m\u001b[32m1620\u001b[39m \u001b[38;5;28mself\u001b[39m._engine = \u001b[38;5;28;43mself\u001b[39;49m\u001b[43m.\u001b[49m\u001b[43m_make_engine\u001b[49m\u001b[43m(\u001b[49m\u001b[43mf\u001b[49m\u001b[43m,\u001b[49m\u001b[43m \u001b[49m\u001b[38;5;28;43mself\u001b[39;49m\u001b[43m.\u001b[49m\u001b[43mengine\u001b[49m\u001b[43m)\u001b[49m\n",
      "\u001b[36mFile \u001b[39m\u001b[32m~\\AppData\\Local\\Packages\\PythonSoftwareFoundation.Python.3.11_qbz5n2kfra8p0\\LocalCache\\local-packages\\Python311\\site-packages\\pandas\\io\\parsers\\readers.py:1880\u001b[39m, in \u001b[36mTextFileReader._make_engine\u001b[39m\u001b[34m(self, f, engine)\u001b[39m\n\u001b[32m   1878\u001b[39m     \u001b[38;5;28;01mif\u001b[39;00m \u001b[33m\"\u001b[39m\u001b[33mb\u001b[39m\u001b[33m\"\u001b[39m \u001b[38;5;129;01mnot\u001b[39;00m \u001b[38;5;129;01min\u001b[39;00m mode:\n\u001b[32m   1879\u001b[39m         mode += \u001b[33m\"\u001b[39m\u001b[33mb\u001b[39m\u001b[33m\"\u001b[39m\n\u001b[32m-> \u001b[39m\u001b[32m1880\u001b[39m \u001b[38;5;28mself\u001b[39m.handles = \u001b[43mget_handle\u001b[49m\u001b[43m(\u001b[49m\n\u001b[32m   1881\u001b[39m \u001b[43m    \u001b[49m\u001b[43mf\u001b[49m\u001b[43m,\u001b[49m\n\u001b[32m   1882\u001b[39m \u001b[43m    \u001b[49m\u001b[43mmode\u001b[49m\u001b[43m,\u001b[49m\n\u001b[32m   1883\u001b[39m \u001b[43m    \u001b[49m\u001b[43mencoding\u001b[49m\u001b[43m=\u001b[49m\u001b[38;5;28;43mself\u001b[39;49m\u001b[43m.\u001b[49m\u001b[43moptions\u001b[49m\u001b[43m.\u001b[49m\u001b[43mget\u001b[49m\u001b[43m(\u001b[49m\u001b[33;43m\"\u001b[39;49m\u001b[33;43mencoding\u001b[39;49m\u001b[33;43m\"\u001b[39;49m\u001b[43m,\u001b[49m\u001b[43m \u001b[49m\u001b[38;5;28;43;01mNone\u001b[39;49;00m\u001b[43m)\u001b[49m\u001b[43m,\u001b[49m\n\u001b[32m   1884\u001b[39m \u001b[43m    \u001b[49m\u001b[43mcompression\u001b[49m\u001b[43m=\u001b[49m\u001b[38;5;28;43mself\u001b[39;49m\u001b[43m.\u001b[49m\u001b[43moptions\u001b[49m\u001b[43m.\u001b[49m\u001b[43mget\u001b[49m\u001b[43m(\u001b[49m\u001b[33;43m\"\u001b[39;49m\u001b[33;43mcompression\u001b[39;49m\u001b[33;43m\"\u001b[39;49m\u001b[43m,\u001b[49m\u001b[43m \u001b[49m\u001b[38;5;28;43;01mNone\u001b[39;49;00m\u001b[43m)\u001b[49m\u001b[43m,\u001b[49m\n\u001b[32m   1885\u001b[39m \u001b[43m    \u001b[49m\u001b[43mmemory_map\u001b[49m\u001b[43m=\u001b[49m\u001b[38;5;28;43mself\u001b[39;49m\u001b[43m.\u001b[49m\u001b[43moptions\u001b[49m\u001b[43m.\u001b[49m\u001b[43mget\u001b[49m\u001b[43m(\u001b[49m\u001b[33;43m\"\u001b[39;49m\u001b[33;43mmemory_map\u001b[39;49m\u001b[33;43m\"\u001b[39;49m\u001b[43m,\u001b[49m\u001b[43m \u001b[49m\u001b[38;5;28;43;01mFalse\u001b[39;49;00m\u001b[43m)\u001b[49m\u001b[43m,\u001b[49m\n\u001b[32m   1886\u001b[39m \u001b[43m    \u001b[49m\u001b[43mis_text\u001b[49m\u001b[43m=\u001b[49m\u001b[43mis_text\u001b[49m\u001b[43m,\u001b[49m\n\u001b[32m   1887\u001b[39m \u001b[43m    \u001b[49m\u001b[43merrors\u001b[49m\u001b[43m=\u001b[49m\u001b[38;5;28;43mself\u001b[39;49m\u001b[43m.\u001b[49m\u001b[43moptions\u001b[49m\u001b[43m.\u001b[49m\u001b[43mget\u001b[49m\u001b[43m(\u001b[49m\u001b[33;43m\"\u001b[39;49m\u001b[33;43mencoding_errors\u001b[39;49m\u001b[33;43m\"\u001b[39;49m\u001b[43m,\u001b[49m\u001b[43m \u001b[49m\u001b[33;43m\"\u001b[39;49m\u001b[33;43mstrict\u001b[39;49m\u001b[33;43m\"\u001b[39;49m\u001b[43m)\u001b[49m\u001b[43m,\u001b[49m\n\u001b[32m   1888\u001b[39m \u001b[43m    \u001b[49m\u001b[43mstorage_options\u001b[49m\u001b[43m=\u001b[49m\u001b[38;5;28;43mself\u001b[39;49m\u001b[43m.\u001b[49m\u001b[43moptions\u001b[49m\u001b[43m.\u001b[49m\u001b[43mget\u001b[49m\u001b[43m(\u001b[49m\u001b[33;43m\"\u001b[39;49m\u001b[33;43mstorage_options\u001b[39;49m\u001b[33;43m\"\u001b[39;49m\u001b[43m,\u001b[49m\u001b[43m \u001b[49m\u001b[38;5;28;43;01mNone\u001b[39;49;00m\u001b[43m)\u001b[49m\u001b[43m,\u001b[49m\n\u001b[32m   1889\u001b[39m \u001b[43m\u001b[49m\u001b[43m)\u001b[49m\n\u001b[32m   1890\u001b[39m \u001b[38;5;28;01massert\u001b[39;00m \u001b[38;5;28mself\u001b[39m.handles \u001b[38;5;129;01mis\u001b[39;00m \u001b[38;5;129;01mnot\u001b[39;00m \u001b[38;5;28;01mNone\u001b[39;00m\n\u001b[32m   1891\u001b[39m f = \u001b[38;5;28mself\u001b[39m.handles.handle\n",
      "\u001b[36mFile \u001b[39m\u001b[32m~\\AppData\\Local\\Packages\\PythonSoftwareFoundation.Python.3.11_qbz5n2kfra8p0\\LocalCache\\local-packages\\Python311\\site-packages\\pandas\\io\\common.py:873\u001b[39m, in \u001b[36mget_handle\u001b[39m\u001b[34m(path_or_buf, mode, encoding, compression, memory_map, is_text, errors, storage_options)\u001b[39m\n\u001b[32m    868\u001b[39m \u001b[38;5;28;01melif\u001b[39;00m \u001b[38;5;28misinstance\u001b[39m(handle, \u001b[38;5;28mstr\u001b[39m):\n\u001b[32m    869\u001b[39m     \u001b[38;5;66;03m# Check whether the filename is to be opened in binary mode.\u001b[39;00m\n\u001b[32m    870\u001b[39m     \u001b[38;5;66;03m# Binary mode does not support 'encoding' and 'newline'.\u001b[39;00m\n\u001b[32m    871\u001b[39m     \u001b[38;5;28;01mif\u001b[39;00m ioargs.encoding \u001b[38;5;129;01mand\u001b[39;00m \u001b[33m\"\u001b[39m\u001b[33mb\u001b[39m\u001b[33m\"\u001b[39m \u001b[38;5;129;01mnot\u001b[39;00m \u001b[38;5;129;01min\u001b[39;00m ioargs.mode:\n\u001b[32m    872\u001b[39m         \u001b[38;5;66;03m# Encoding\u001b[39;00m\n\u001b[32m--> \u001b[39m\u001b[32m873\u001b[39m         handle = \u001b[38;5;28mopen\u001b[39m(\n\u001b[32m    874\u001b[39m             handle,\n\u001b[32m    875\u001b[39m             ioargs.mode,\n\u001b[32m    876\u001b[39m             encoding=ioargs.encoding,\n\u001b[32m    877\u001b[39m             errors=errors,\n\u001b[32m    878\u001b[39m             newline=\u001b[33m\"\u001b[39m\u001b[33m\"\u001b[39m,\n\u001b[32m    879\u001b[39m         )\n\u001b[32m    880\u001b[39m     \u001b[38;5;28;01melse\u001b[39;00m:\n\u001b[32m    881\u001b[39m         \u001b[38;5;66;03m# Binary mode\u001b[39;00m\n\u001b[32m    882\u001b[39m         handle = \u001b[38;5;28mopen\u001b[39m(handle, ioargs.mode)\n",
      "\u001b[31mFileNotFoundError\u001b[39m: [Errno 2] No such file or directory: 'losses.csv'"
     ]
    }
   ],
   "source": [
    "\n",
    "\n",
    "# Зчитуємо CSV-файл (переконайся, що файл у тій самій папці)\n",
    "file_path = 'losses.csv'\n",
    "data = pd.read_csv(file_path)\n",
    "\n",
    "# Виводимо перші 5 рядків\n",
    "print(\"Перші 5 рядків з файлу:\")\n",
    "print(data.head())\n"
   ]
  },
  {
   "cell_type": "code",
   "execution_count": 22,
   "id": "4005105b",
   "metadata": {},
   "outputs": [
    {
     "name": "stdout",
     "output_type": "stream",
     "text": [
      "         Дата  Танки  Артилерія  Літаки  Гелікоптери  БПЛА\n",
      "0  2024-01-01      5         12       0            1     4\n",
      "1  2024-01-02      3         10       1            0     3\n",
      "2  2024-01-03      7         15       0            1     6\n",
      "3  2024-01-04      2          9       1            0     2\n",
      "4  2024-01-05      4         11       0            0     5\n"
     ]
    }
   ],
   "source": [
    "import pandas as pd\n",
    "\n",
    "# Зчитування CSV-файлу\n",
    "data = pd.read_csv(\"boyovi_vtraty.csv\", encoding=\"utf-8\")\n",
    "\n",
    "# Виводимо перші 5 рядків\n",
    "print(data.head())\n"
   ]
  },
  {
   "cell_type": "markdown",
   "id": "c9dbc706",
   "metadata": {},
   "source": [
    "### Завдання 2. Виведино загальні втрати за кожним напрямком."
   ]
  },
  {
   "cell_type": "code",
   "execution_count": 23,
   "id": "93d001e3",
   "metadata": {},
   "outputs": [
    {
     "name": "stdout",
     "output_type": "stream",
     "text": [
      "Загальні втрати за кожним напрямком:\n",
      "Танки: 21\n",
      "Артилерія: 57\n",
      "Літаки: 2\n",
      "Гелікоптери: 2\n",
      "БПЛА: 20\n"
     ]
    }
   ],
   "source": [
    "import pandas as pd\n",
    "\n",
    "# Зчитування CSV-файлу\n",
    "data = pd.read_csv(\"boyovi_vtraty.csv\", encoding=\"utf-8\")\n",
    "\n",
    "# Видаляємо колонку \"Дата\", бо вона не потрібна для підрахунку сум\n",
    "data_without_date = data.drop(columns=[\"Дата\"])\n",
    "\n",
    "# Рахуємо загальні втрати по кожному напрямку\n",
    "total_losses = data_without_date.sum()\n",
    "\n",
    "# Виводимо результат\n",
    "print(\"Загальні втрати за кожним напрямком:\")\n",
    "for direction, loss in total_losses.items():\n",
    "    print(f\"{direction}: {loss}\")\n"
   ]
  },
  {
   "cell_type": "markdown",
   "id": "e5a7f1c8",
   "metadata": {},
   "source": [
    "### Завдання 3. Виведино середні втрати по кожному підрозділу."
   ]
  },
  {
   "cell_type": "code",
   "execution_count": 25,
   "id": "af083895",
   "metadata": {},
   "outputs": [
    {
     "name": "stdout",
     "output_type": "stream",
     "text": [
      "Середні втрати по кожному підрозділу:\n",
      "Підрозділ\n",
      "Артилерія           40.000000\n",
      "Піхота             120.000000\n",
      "Розвідка            12.500000\n",
      "Танкові війська     53.333333\n",
      "Name: Втрати, dtype: float64\n"
     ]
    }
   ],
   "source": [
    "import pandas as pd\n",
    "\n",
    "# Зчитування CSV-файлу\n",
    "data = pd.read_csv(\"vtraty.csv\", encoding=\"utf-8\")\n",
    "\n",
    "# Групування за підрозділом і обчислення середніх втрат\n",
    "average_losses = data.groupby(\"Підрозділ\")[\"Втрати\"].mean()\n",
    "\n",
    "# Виведення результатів\n",
    "print(\"Середні втрати по кожному підрозділу:\")\n",
    "print(average_losses)\n"
   ]
  },
  {
   "cell_type": "markdown",
   "id": "fc20b3dd",
   "metadata": {},
   "source": [
    "### Завдання 4. Додано колонку з рівнем загрози."
   ]
  },
  {
   "cell_type": "code",
   "execution_count": 26,
   "id": "8749177b",
   "metadata": {},
   "outputs": [
    {
     "name": "stdout",
     "output_type": "stream",
     "text": [
      "         Дата  Втрати особового складу Рівень загрози\n",
      "0  2025-07-01                       50        Низький\n",
      "1  2025-07-02                      200       Середній\n",
      "2  2025-07-03                      600        Високий\n"
     ]
    }
   ],
   "source": [
    "import pandas as pd\n",
    "\n",
    "# Створимо прикладові дані (можна замінити на читання з CSV)\n",
    "data = pd.DataFrame({\n",
    "    'Дата': ['2025-07-01', '2025-07-02', '2025-07-03'],\n",
    "    'Втрати особового складу': [50, 200, 600]\n",
    "})\n",
    "\n",
    "# Функція для визначення рівня загрози\n",
    "def визначити_рівень_загрози(втрати):\n",
    "    if втрати < 100:\n",
    "        return 'Низький'\n",
    "    elif втрати < 300:\n",
    "        return 'Середній'\n",
    "    else:\n",
    "        return 'Високий'\n",
    "\n",
    "# Додаємо нову колонку\n",
    "data['Рівень загрози'] = data['Втрати особового складу'].apply(визначити_рівень_загрози)\n",
    "\n",
    "# Виводимо результат\n",
    "print(data)\n"
   ]
  },
  {
   "cell_type": "markdown",
   "id": "08450e7e",
   "metadata": {},
   "source": [
    "### Завдання 5. Збережено результат аналізу у новий CSV-файл."
   ]
  },
  {
   "cell_type": "code",
   "execution_count": 28,
   "id": "672a9f10",
   "metadata": {},
   "outputs": [
    {
     "name": "stdout",
     "output_type": "stream",
     "text": [
      "Результат збережено у файл 'rezultat_analizu.csv'\n"
     ]
    }
   ],
   "source": [
    "import pandas as pd\n",
    "\n",
    "# Зчитування початкового CSV-файлу\n",
    "data = pd.read_csv(\"vkhidni_dani.csv\", encoding=\"utf-8\")\n",
    "\n",
    "# Простий аналіз: рахуємо кількість рядків (можна замінити на інший аналіз)\n",
    "kilkist_ryadkiv = len(data)\n",
    "\n",
    "# Створюємо DataFrame з результатом аналізу\n",
    "rezultat = pd.DataFrame({\n",
    "    \"Опис\": [\"Кількість рядків у файлі\"],\n",
    "    \"Значення\": [kilkist_ryadkiv]\n",
    "})\n",
    "\n",
    "# Збереження результату в новий CSV-файл\n",
    "rezultat.to_csv(\"rezultat_analizu.csv\", index=False, encoding=\"utf-8\")\n",
    "\n",
    "print(\"Результат збережено у файл 'rezultat_analizu.csv'\")\n"
   ]
  }
 ],
 "metadata": {
  "kernelspec": {
   "display_name": "Python 3",
   "language": "python",
   "name": "python3"
  },
  "language_info": {
   "codemirror_mode": {
    "name": "ipython",
    "version": 3
   },
   "file_extension": ".py",
   "mimetype": "text/x-python",
   "name": "python",
   "nbconvert_exporter": "python",
   "pygments_lexer": "ipython3",
   "version": "3.11.9"
  }
 },
 "nbformat": 4,
 "nbformat_minor": 5
}
